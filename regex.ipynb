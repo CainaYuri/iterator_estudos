{
 "cells": [
  {
   "cell_type": "code",
   "execution_count": 1,
   "id": "3b511e6e",
   "metadata": {},
   "outputs": [],
   "source": [
    "import re\n"
   ]
  },
  {
   "cell_type": "code",
   "execution_count": 22,
   "id": "3821596a",
   "metadata": {},
   "outputs": [],
   "source": [
    "def explorar_expressao_regular(texto):\n",
    "    padrao = r'\\bpython\\b'\n",
    "    if re.search(padrao, texto):\n",
    "        print(\"O padrão foi encontrado\")\n",
    "    else:\n",
    "        print(\"Padrão não encontrado\")\n",
    "\n",
    "    padrao_para_email = r'[a-zA-Z0-9._%+-]+@[a-zA-Z0-9.-]+\\.[a-zA-Z]{2,}'\n",
    "    emails= re.findall(padrao_para_email, texto)\n",
    "    print(f\"E-mail encontrado: {emails}\")\n",
    "\n",
    "    texto_substituido = re.sub(r'python', 'JavaScript', texto)\n",
    "    print(f'troca de palavra ok....{texto_substituido}')\n",
    "\n",
    "    texto_dividido = re.split(r'\\s+', texto)\n",
    "    print(texto_dividido)\n",
    "\n"
   ]
  },
  {
   "cell_type": "code",
   "execution_count": 23,
   "id": "a435ff0c",
   "metadata": {},
   "outputs": [
    {
     "name": "stdout",
     "output_type": "stream",
     "text": [
      "O padrão foi encontrado\n",
      "E-mail encontrado: ['cainayuri@gmail.com']\n",
      "troca de palavra ok....\n",
      "Olá, me chamo Yuri.\n",
      "Estudo JavaScript há 4 anos\n",
      "Estudo na Universidade Federal de Uberlândia\n",
      "Durante as aulas de programação estudamos JavaScript\n",
      "Python é um dos melhores meios para trabalhar com dados\n",
      "Pretendo ingressar em um trabalho, no qual lido com JavaScript diariamente.\n",
      "Meu e-mail para contato é cainayuri@gmail.com.\n",
      "\n",
      "['', 'Olá,', 'me', 'chamo', 'Yuri.', 'Estudo', 'python', 'há', '4', 'anos', 'Estudo', 'na', 'Universidade', 'Federal', 'de', 'Uberlândia', 'Durante', 'as', 'aulas', 'de', 'programação', 'estudamos', 'python', 'Python', 'é', 'um', 'dos', 'melhores', 'meios', 'para', 'trabalhar', 'com', 'dados', 'Pretendo', 'ingressar', 'em', 'um', 'trabalho,', 'no', 'qual', 'lido', 'com', 'python', 'diariamente.', 'Meu', 'e-mail', 'para', 'contato', 'é', 'cainayuri@gmail.com.', '']\n"
     ]
    }
   ],
   "source": [
    "texto_exemplo = \"\"\"\n",
    "Olá, me chamo Yuri.\n",
    "Estudo python há 4 anos\n",
    "Estudo na Universidade Federal de Uberlândia\n",
    "Durante as aulas de programação estudamos python\n",
    "Python é um dos melhores meios para trabalhar com dados\n",
    "Pretendo ingressar em um trabalho, no qual lido com python diariamente.\n",
    "Meu e-mail para contato é cainayuri@gmail.com.\n",
    "\"\"\"\n",
    "explorar_expressao_regular(texto_exemplo)\n"
   ]
  }
 ],
 "metadata": {
  "kernelspec": {
   "display_name": "base",
   "language": "python",
   "name": "python3"
  },
  "language_info": {
   "codemirror_mode": {
    "name": "ipython",
    "version": 3
   },
   "file_extension": ".py",
   "mimetype": "text/x-python",
   "name": "python",
   "nbconvert_exporter": "python",
   "pygments_lexer": "ipython3",
   "version": "3.12.7"
  }
 },
 "nbformat": 4,
 "nbformat_minor": 5
}
