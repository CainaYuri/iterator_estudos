{
 "cells": [
  {
   "cell_type": "code",
   "execution_count": 17,
   "id": "0b35ff21",
   "metadata": {},
   "outputs": [],
   "source": [
    "class vendasIterator:\n",
    "    def __init__(self, arquivo):\n",
    "        self.arquivo = arquivo\n",
    "        self.file = open(arquivo, 'r', encoding='utf-8')\n",
    "\n",
    "    def __iter__(self):\n",
    "        return self\n",
    "    \n",
    "    def __next__(self):\n",
    "        linha = self.file.readline()\n",
    "        if not linha:\n",
    "            self.file.close()\n",
    "            raise StopIteration\n",
    "        categoria, valor = linha.strip().split(',')\n",
    "        return categoria, float(valor)"
   ]
  },
  {
   "cell_type": "code",
   "execution_count": 18,
   "id": "ee32eb80",
   "metadata": {},
   "outputs": [],
   "source": [
    "def gerador_somA_vendas(arquivo):\n",
    "        total_vendas =0\n",
    "        for categoria, valor in vendasIterator(arquivo):\n",
    "            total_vendas += valor\n",
    "            yield categoria, valor, total_vendas"
   ]
  },
  {
   "cell_type": "code",
   "execution_count": 19,
   "id": "e1185deb",
   "metadata": {},
   "outputs": [
    {
     "name": "stdout",
     "output_type": "stream",
     "text": [
      "Processando Vendas....\n",
      "Categoria; Eltrônicos, Valor R$,300.00, Total R$: 300.00\n",
      "Categoria; roupas, Valor R$,400.00, Total R$: 700.00\n",
      "Categoria; Alimentos, Valor R$,100.00, Total R$: 800.00\n",
      "Categoria; Eletrônicos, Valor R$,200.00, Total R$: 1000.00\n",
      "Categoria; roupas, Valor R$,250.00, Total R$: 1250.00\n",
      "Categoria; Eletrônicos, Valor R$,123.00, Total R$: 1373.00\n",
      "Categoria; Alimentos, Valor R$,800.00, Total R$: 2173.00\n",
      "Eltrônicos: 1: vendas\n",
      "roupas: 2: vendas\n",
      "Alimentos: 2: vendas\n",
      "Eletrônicos: 2: vendas\n"
     ]
    }
   ],
   "source": [
    "contagem_vendas ={}\n",
    "arquivo = \"vendas.txt\"\n",
    "print(\"Processando Vendas....\")\n",
    "for categoria, valor, total in gerador_somA_vendas(arquivo):\n",
    "    print(f\"Categoria; {categoria}, Valor R$,{valor:.2f}, Total R$: {total:.2f}\")\n",
    "\n",
    "    if categoria not in contagem_vendas:\n",
    "        contagem_vendas[categoria] = 0\n",
    "    contagem_vendas[categoria] +=1\n",
    "\n",
    "for categoria, contagem in contagem_vendas.items():\n",
    "    print(f\"{categoria}: {contagem}: vendas\")\n"
   ]
  }
 ],
 "metadata": {
  "kernelspec": {
   "display_name": "base",
   "language": "python",
   "name": "python3"
  },
  "language_info": {
   "codemirror_mode": {
    "name": "ipython",
    "version": 3
   },
   "file_extension": ".py",
   "mimetype": "text/x-python",
   "name": "python",
   "nbconvert_exporter": "python",
   "pygments_lexer": "ipython3",
   "version": "3.12.7"
  }
 },
 "nbformat": 4,
 "nbformat_minor": 5
}
