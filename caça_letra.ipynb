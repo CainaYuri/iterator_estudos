{
 "cells": [
  {
   "cell_type": "code",
   "execution_count": null,
   "id": "3f0c0d89",
   "metadata": {},
   "outputs": [],
   "source": [
    "class NomeComLetra():\n",
    "\n",
    "    def __init__(self, nomes,letras):\n",
    "        self.nome = nomes\n",
    "        self.letras = letras\n",
    "        self.index = 0 \n",
    "\n",
    "    def __iter__(self):\n",
    "        return self\n",
    "    \n",
    "    def __next__(self):\n",
    "        while self.index < len(self.nome):\n",
    "            nome = self.nome[self.index]\n",
    "            self.index += 1\n",
    "            if nome.startswith(self.letras):\n",
    "                return nome\n",
    "        raise StopIteration\n",
    "    \n"
   ]
  },
  {
   "cell_type": "code",
   "execution_count": 3,
   "id": "a13c9f67",
   "metadata": {},
   "outputs": [
    {
     "name": "stdout",
     "output_type": "stream",
     "text": [
      "Alice\n",
      "Anceloti\n",
      "Alcides\n",
      "Alcione\n",
      "Anidracira\n",
      "Ate que fim o ultimo\n"
     ]
    }
   ],
   "source": [
    "lista_nome = ['Alice','Bob', \"Anceloti\",'Alcides','Alcione','Moises','Anidracira','Raikonem','Seu jorge',  'ailton', 'HAmilton', 'Ate que fim o ultimo']\n",
    "letra = 'A'\n",
    "iterator_nome = NomeComLetra(lista_nome,letra)\n",
    "\n",
    "for nome in iterator_nome:\n",
    "    print(nome)"
   ]
  }
 ],
 "metadata": {
  "kernelspec": {
   "display_name": "base",
   "language": "python",
   "name": "python3"
  },
  "language_info": {
   "codemirror_mode": {
    "name": "ipython",
    "version": 3
   },
   "file_extension": ".py",
   "mimetype": "text/x-python",
   "name": "python",
   "nbconvert_exporter": "python",
   "pygments_lexer": "ipython3",
   "version": "3.12.7"
  }
 },
 "nbformat": 4,
 "nbformat_minor": 5
}
