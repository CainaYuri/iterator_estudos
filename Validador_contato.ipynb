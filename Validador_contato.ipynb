{
 "cells": [
  {
   "cell_type": "code",
   "execution_count": 20,
   "id": "5286a81f",
   "metadata": {},
   "outputs": [],
   "source": [
    "import re "
   ]
  },
  {
   "cell_type": "code",
   "execution_count": 21,
   "id": "f185dd6b",
   "metadata": {},
   "outputs": [],
   "source": [
    "def validar_contatos(contatos):\n",
    "    padrao_nome = r'Nome:\\s*([A-Z][a-z]+(?:\\[A-Z][a-z]+)?)'\n",
    "    padrao_email = r'Email:\\s*([a-zA-Z0-9._%+-]+@[a-zA-Z0-9.-]+\\.[a-zA-Z]{2,})'\n",
    "    padrao_tel = r'Telefone:\\s*(\\(\\d{2}\\)\\s\\d{5}-\\d{4}|\\d{5}-\\d{4})'\n",
    "\n",
    "    for contato in contatos:\n",
    "        nome_match = re.search(padrao_nome, contato)\n",
    "        email_match = re.search(padrao_email, contato)\n",
    "        telefone_match = re.search(padrao_tel, contato)\n",
    "\n",
    "        if nome_match and email_match and telefone_match:\n",
    "            nome = nome_match.group(1)\n",
    "            email = email_match.group(1)\n",
    "            telefone = telefone_match.group(1)\n",
    "            print(f'Contato válido: Nome:{nome}, Email{email},Telefone{telefone}')\n",
    "        else:\n",
    "            print(f\"Contato inválido: {contato}\")\n",
    "             "
   ]
  },
  {
   "cell_type": "code",
   "execution_count": 26,
   "id": "229b79c4",
   "metadata": {},
   "outputs": [],
   "source": [
    "contatos_exemplos = [\n",
    "    \"Nome: Galdeon Mario Cézar, Email: galdeon@gmail.com, Telefone: (34) 98697-9896 \",\n",
    "    \"Nome: Mirosmar, Email: moriosmar@gmail.com, Telefone: 9896-9666 \",\n",
    "    \"Nome: Maria, Email: maria@gmail.com, Telefone: (34)99898-8888 \",\n",
    "    \"Nome: Neymar Craque,Email: meninoney@gmail.com, Telefone: (34)96485-8877 \",\n",
    "    \"Nome: Olivia, Email: livinha@gmail.com, Telefone: (34)98888-7777 \",\n",
    "]\n"
   ]
  },
  {
   "cell_type": "code",
   "execution_count": 27,
   "id": "80dacf63",
   "metadata": {},
   "outputs": [
    {
     "name": "stdout",
     "output_type": "stream",
     "text": [
      "Contato válido: Nome:Galdeon, Emailgaldeon@gmail.com,Telefone(34) 98697-9896\n",
      "Contato inválido: Nome: Mirosmar, Email: moriosmar@gmail.com, Telefone: 9896-9666 \n",
      "Contato inválido: Nome: Maria, Email: maria@gmail.com, Telefone: (34)99898-8888 \n",
      "Contato inválido: Nome: Neymar Craque,Email: meninoney@gmail.com, Telefone: (34)96485-8877 \n",
      "Contato inválido: Nome: Olivia, Email: livinha@gmail.com, Telefone: (34)98888-7777 \n"
     ]
    }
   ],
   "source": [
    "validar_contatos(contatos_exemplos)"
   ]
  }
 ],
 "metadata": {
  "kernelspec": {
   "display_name": "base",
   "language": "python",
   "name": "python3"
  },
  "language_info": {
   "codemirror_mode": {
    "name": "ipython",
    "version": 3
   },
   "file_extension": ".py",
   "mimetype": "text/x-python",
   "name": "python",
   "nbconvert_exporter": "python",
   "pygments_lexer": "ipython3",
   "version": "3.12.7"
  }
 },
 "nbformat": 4,
 "nbformat_minor": 5
}
