{
 "cells": [
  {
   "cell_type": "code",
   "execution_count": 1,
   "id": "1e7b0c2e",
   "metadata": {},
   "outputs": [],
   "source": [
    "import re"
   ]
  },
  {
   "cell_type": "code",
   "execution_count": 2,
   "id": "c5d8fd46",
   "metadata": {},
   "outputs": [],
   "source": [
    "def extrair_urls(texto):\n",
    "    pardrao_url= r'https?://[a-zA-Z0-9.-]+\\.[a-zA-Z]{2,}'\n",
    "    urls = re.findall(pardrao_url, texto)\n",
    "    return urls \n"
   ]
  },
  {
   "cell_type": "code",
   "execution_count": 4,
   "id": "8a347060",
   "metadata": {},
   "outputs": [],
   "source": [
    "texto_exemplo =\"\"\"\"\n",
    "Claro! Aqui está um pequeno texto explicativo sobre URLs.\n",
    "\n",
    "---\n",
    "\n",
    "### O que é uma URL?\n",
    "\n",
    "URL significa **Uniform Resource Locator** (Localizador Uniforme de Recursos). Em termos simples, é o endereço único usado para localizar um recurso específico na internet, como uma página web, uma imagem, um vídeo ou um arquivo para download.\n",
    "\n",
    "Ela age como um \"endereço digital\", fornecendo todas as instruções necessárias para que seu navegador encontre e exiba o conteúdo desejado em qualquer lugar do mundo.\n",
    "\n",
    "Uma URL é composta por várias partes, mas as principais são:\n",
    "*   **Protocolo:** Como os dados devem ser transferidos (ex: `https://`).\n",
    "*   **Domínio:** O nome do servidor onde o site está hospedado (ex: `www.exemplo.com`).\n",
    "*   **Caminho (Path):** Especifica a localização exata de uma página ou arquivo dentro do site (ex: `/produtos/celulares/`).\n",
    "\n",
    "### Exemplos de URLs\n",
    "\n",
    "1.  **URL Básica de um Site:**\n",
    "    `https://www.google.com`\n",
    "    *   **Protocolo:** `https://`\n",
    "    *   **Domínio:** `www.google.com`\n",
    "    *   **Caminho:** Não especificado (leva à página inicial).\n",
    "\n",
    "2.  **URL com Caminho (Path):**\n",
    "    `https://pt.wikipedia.org/wiki/Português`\n",
    "    *   **Protocolo:** `https://`\n",
    "    *   **Domínio:** `pt.wikipedia.org`\n",
    "    *   **Caminho:** `/wiki/Português` (leva diretamente ao artigo sobre a Língua Portuguesa).\n",
    "\n",
    "3.  **URL com Parâmetros:**\n",
    "    `https://www.youtube.com/watch?v=dQw4w9WgXcQ`\n",
    "    *   **Protocolo:** `https://`\n",
    "    *   **Domínio:** `www.youtube.com`\n",
    "    *   **Caminho:** `/watch`\n",
    "    *   **Parâmetros:** `?v=dQw4w9WgXcQ` (o parâmetro `v` indica qual vídeo específico deve ser carregado).\n",
    "\n",
    "4.  **URL para um Arquivo Específico:**\n",
    "    `https://www.empresa.com.br/downloads/relatorio.pdf`\n",
    "    *   **Protocolo:** `https://`\n",
    "    *   **Domínio:** `www.empresa.com.br`\n",
    "    *   **Caminho:** `/downloads/relatorio.pdf` (aponta diretamente para um arquivo PDF).\n",
    "\n",
    "5.  **URL com Subdomínio:**\n",
    "    `https://mail.provedor.com`\n",
    "    *   **Protocolo:** `https://`\n",
    "    *   **Subdomínio:** `mail`\n",
    "    *   **Domínio:** `provedor.com`\n",
    "    *   Essa URL geralmente leva ao serviço de webmail de um provedor.\n",
    "\n",
    "Em resumo, as URLs são a base da navegação na web, funcionando como os endereços que guiam os usuários e os navegadores para o conteúdo correto na vastidão da internet. \n",
    "\"\"\"\n"
   ]
  },
  {
   "cell_type": "code",
   "execution_count": 5,
   "id": "a832df05",
   "metadata": {},
   "outputs": [
    {
     "name": "stdout",
     "output_type": "stream",
     "text": [
      "['https://www.google.com', 'https://pt.wikipedia.org', 'https://www.youtube.com', 'https://www.empresa.com.br', 'https://mail.provedor.com']\n"
     ]
    }
   ],
   "source": [
    "urls_encontradas = extrair_urls(texto_exemplo)\n",
    "print(urls_encontradas)\n"
   ]
  }
 ],
 "metadata": {
  "kernelspec": {
   "display_name": "base",
   "language": "python",
   "name": "python3"
  },
  "language_info": {
   "codemirror_mode": {
    "name": "ipython",
    "version": 3
   },
   "file_extension": ".py",
   "mimetype": "text/x-python",
   "name": "python",
   "nbconvert_exporter": "python",
   "pygments_lexer": "ipython3",
   "version": "3.12.7"
  }
 },
 "nbformat": 4,
 "nbformat_minor": 5
}
